{
 "cells": [
  {
   "cell_type": "markdown",
   "metadata": {},
   "source": [
    "# Analiza vseh igralcev v zgodovini lige NBA"
   ]
  },
  {
   "cell_type": "markdown",
   "metadata": {},
   "source": [
    "## Uvod"
   ]
  },
  {
   "cell_type": "markdown",
   "metadata": {},
   "source": [
    "Moj cilj je narediti analizo podatkov vseh igralcev v zgodovini **ameriške košarkarske lige NBA** (National basketball association) s spletne strani https://www.basketball-reference.com. Predstaviti želim povprečnega igralca (njegovo višino, težo in dolžino kariere) in kako se je profil le-tega spreminjal skozi čas. Tu se mi zdi pomembno poudariti, da liga NBA obstaja od leta 1946, v naši bazi podatkov pa so tudi podatki o igralcih, ki so igrali v ligi ABA (American basketball association). Te ligi sta se združili leta 1976.\n",
    "\n",
    "Nato bom predstavil profil igralca, ki igra na določeni igralni poziciji v ekipi in z analizo podatkov potrdil oziroma zavrnil naslednje hipoteze:\n",
    "* centri so v povprečju najvišji in najtežji\n",
    "* branilci so v povprečju najnižji in najlažji\n",
    "* krila so nekje vmes\n",
    "\n",
    "Tu bi bilo dobro omeniti, da pri košarki igra v eni ekipi 5 igralcev, vsak ime svojo osnovno pozicijo. Običajna delitev bi bila:\n",
    "* 1...organizator igre\n",
    "* 2...branilec\n",
    "* 3...krilo\n",
    "* 4...krilni center\n",
    "* 5...center\n",
    "\n",
    "v naših podatkih pa se uporablja delitev:\n",
    "* G (guard)...sem spadajo 1ke in 2ke iz običajne delitve\n",
    "* F (forward)...sem spadajo 3ke in 4ke\n",
    "* C (centre)...sem spadajo 5ke\n",
    "\n",
    "Nekateri igralci lahko igrajo več pozicij, sploh v sodobni košarki, vzeli bomo le preferirano.\n",
    "\n",
    "Pogledali bomo tudi število aktivnih igralcev skozi čas, ki bi moralo rasti nekako tako, kot je rastlo število ekip v ligi;\n",
    "* 1961...9 ekip\n",
    "* 1966...10 ekip\n",
    "* 1967...12 ekip\n",
    "* 1968...14 ekip\n",
    "* 1970...17 ekip\n",
    "* 1974...18 ekip\n",
    "* 1976...22 ekip\n",
    "* 1980...23 ekip\n",
    "* 1988...25 ekip\n",
    "* 1989...27 ekip\n",
    "* 1995...29 ekip\n",
    "* 2004...30 ekip\n",
    "\n",
    "Pogledali si bomo tudi verjetnost, da se igralec uvrsti v **Hall of fame**, ki je zbirka najuspešnejših košarkarjev vseh časov in je dober pokazatelj, da je imel posameznik res izvrstno košarkarsko kariero. Pogledali bomo kako na to verjetnost vplivajo razni dejavniki, kot so obdobje, v katerem je igral, dolžina kariere, pozicija, višina itd.\n",
    "\n",
    "Vmes bomo poleg povprečij kdaj kot zanimivost pogledali tudi ekstreme, kot sta recimo najvišji in najnižji igralec."
   ]
  },
  {
   "cell_type": "markdown",
   "metadata": {},
   "source": [
    "Opomba: ne bom se spuščal v podrobnosti o košarki, njenih pravilih in razvoju igre skozi čas, saj je cilj projektne naloge analiza podatkov, ne predstavitev košarke. V kolikor so v razlagi uporabljene trditve ali podatki, ki niso iz tabel, sem uporabil svoje obsežno znanje o košarki."
   ]
  },
  {
   "cell_type": "code",
   "execution_count": 2,
   "metadata": {},
   "outputs": [
    {
     "data": {
      "text/html": [
       "<div>\n",
       "<style scoped>\n",
       "    .dataframe tbody tr th:only-of-type {\n",
       "        vertical-align: middle;\n",
       "    }\n",
       "\n",
       "    .dataframe tbody tr th {\n",
       "        vertical-align: top;\n",
       "    }\n",
       "\n",
       "    .dataframe thead th {\n",
       "        text-align: right;\n",
       "    }\n",
       "</style>\n",
       "<table border=\"1\" class=\"dataframe\">\n",
       "  <thead>\n",
       "    <tr style=\"text-align: right;\">\n",
       "      <th></th>\n",
       "      <th>ime</th>\n",
       "      <th>zacetek_kariere</th>\n",
       "      <th>konec_kariere/sedanjost</th>\n",
       "      <th>dolzina_kariere</th>\n",
       "      <th>pozicija</th>\n",
       "      <th>visina</th>\n",
       "      <th>teza</th>\n",
       "      <th>leto_rojstva</th>\n",
       "      <th>v_hall_of_fame</th>\n",
       "      <th>trenutno_v_ligi</th>\n",
       "    </tr>\n",
       "  </thead>\n",
       "  <tbody>\n",
       "    <tr>\n",
       "      <th>0</th>\n",
       "      <td>Alaa Abdelnaby</td>\n",
       "      <td>1991</td>\n",
       "      <td>1995</td>\n",
       "      <td>4</td>\n",
       "      <td>F</td>\n",
       "      <td>208</td>\n",
       "      <td>109.0</td>\n",
       "      <td>1968.0</td>\n",
       "      <td>ne</td>\n",
       "      <td>ne</td>\n",
       "    </tr>\n",
       "    <tr>\n",
       "      <th>1</th>\n",
       "      <td>Zaid Abdul-Aziz</td>\n",
       "      <td>1969</td>\n",
       "      <td>1978</td>\n",
       "      <td>9</td>\n",
       "      <td>C</td>\n",
       "      <td>206</td>\n",
       "      <td>107.0</td>\n",
       "      <td>1946.0</td>\n",
       "      <td>ne</td>\n",
       "      <td>ne</td>\n",
       "    </tr>\n",
       "    <tr>\n",
       "      <th>2</th>\n",
       "      <td>Kareem Abdul-Jabbar</td>\n",
       "      <td>1970</td>\n",
       "      <td>1989</td>\n",
       "      <td>19</td>\n",
       "      <td>C</td>\n",
       "      <td>218</td>\n",
       "      <td>102.0</td>\n",
       "      <td>1947.0</td>\n",
       "      <td>da</td>\n",
       "      <td>ne</td>\n",
       "    </tr>\n",
       "    <tr>\n",
       "      <th>3</th>\n",
       "      <td>Mahmoud Abdul-Rauf</td>\n",
       "      <td>1991</td>\n",
       "      <td>2001</td>\n",
       "      <td>10</td>\n",
       "      <td>G</td>\n",
       "      <td>185</td>\n",
       "      <td>74.0</td>\n",
       "      <td>1969.0</td>\n",
       "      <td>ne</td>\n",
       "      <td>ne</td>\n",
       "    </tr>\n",
       "    <tr>\n",
       "      <th>4</th>\n",
       "      <td>Tariq Abdul-Wahad</td>\n",
       "      <td>1998</td>\n",
       "      <td>2003</td>\n",
       "      <td>5</td>\n",
       "      <td>F</td>\n",
       "      <td>198</td>\n",
       "      <td>101.0</td>\n",
       "      <td>1974.0</td>\n",
       "      <td>ne</td>\n",
       "      <td>ne</td>\n",
       "    </tr>\n",
       "    <tr>\n",
       "      <th>...</th>\n",
       "      <td>...</td>\n",
       "      <td>...</td>\n",
       "      <td>...</td>\n",
       "      <td>...</td>\n",
       "      <td>...</td>\n",
       "      <td>...</td>\n",
       "      <td>...</td>\n",
       "      <td>...</td>\n",
       "      <td>...</td>\n",
       "      <td>...</td>\n",
       "    </tr>\n",
       "    <tr>\n",
       "      <th>5103</th>\n",
       "      <td>Ante Žižić</td>\n",
       "      <td>2018</td>\n",
       "      <td>2020</td>\n",
       "      <td>2</td>\n",
       "      <td>F</td>\n",
       "      <td>208</td>\n",
       "      <td>121.0</td>\n",
       "      <td>1997.0</td>\n",
       "      <td>ne</td>\n",
       "      <td>ne</td>\n",
       "    </tr>\n",
       "    <tr>\n",
       "      <th>5104</th>\n",
       "      <td>Jim Zoet</td>\n",
       "      <td>1983</td>\n",
       "      <td>1983</td>\n",
       "      <td>0</td>\n",
       "      <td>C</td>\n",
       "      <td>216</td>\n",
       "      <td>109.0</td>\n",
       "      <td>1953.0</td>\n",
       "      <td>ne</td>\n",
       "      <td>ne</td>\n",
       "    </tr>\n",
       "    <tr>\n",
       "      <th>5105</th>\n",
       "      <td>Bill Zopf</td>\n",
       "      <td>1971</td>\n",
       "      <td>1971</td>\n",
       "      <td>0</td>\n",
       "      <td>G</td>\n",
       "      <td>185</td>\n",
       "      <td>77.0</td>\n",
       "      <td>1948.0</td>\n",
       "      <td>ne</td>\n",
       "      <td>ne</td>\n",
       "    </tr>\n",
       "    <tr>\n",
       "      <th>5106</th>\n",
       "      <td>Ivica Zubac</td>\n",
       "      <td>2017</td>\n",
       "      <td>2023</td>\n",
       "      <td>6</td>\n",
       "      <td>C</td>\n",
       "      <td>213</td>\n",
       "      <td>109.0</td>\n",
       "      <td>1997.0</td>\n",
       "      <td>ne</td>\n",
       "      <td>da</td>\n",
       "    </tr>\n",
       "    <tr>\n",
       "      <th>5107</th>\n",
       "      <td>Matt Zunic</td>\n",
       "      <td>1949</td>\n",
       "      <td>1949</td>\n",
       "      <td>0</td>\n",
       "      <td>G</td>\n",
       "      <td>190</td>\n",
       "      <td>89.0</td>\n",
       "      <td>1919.0</td>\n",
       "      <td>ne</td>\n",
       "      <td>ne</td>\n",
       "    </tr>\n",
       "  </tbody>\n",
       "</table>\n",
       "<p>5108 rows × 10 columns</p>\n",
       "</div>"
      ],
      "text/plain": [
       "                      ime  zacetek_kariere  konec_kariere/sedanjost  \\\n",
       "0          Alaa Abdelnaby             1991                     1995   \n",
       "1         Zaid Abdul-Aziz             1969                     1978   \n",
       "2     Kareem Abdul-Jabbar             1970                     1989   \n",
       "3      Mahmoud Abdul-Rauf             1991                     2001   \n",
       "4       Tariq Abdul-Wahad             1998                     2003   \n",
       "...                   ...              ...                      ...   \n",
       "5103           Ante Žižić             2018                     2020   \n",
       "5104             Jim Zoet             1983                     1983   \n",
       "5105            Bill Zopf             1971                     1971   \n",
       "5106          Ivica Zubac             2017                     2023   \n",
       "5107           Matt Zunic             1949                     1949   \n",
       "\n",
       "      dolzina_kariere pozicija  visina   teza  leto_rojstva v_hall_of_fame  \\\n",
       "0                   4        F     208  109.0        1968.0             ne   \n",
       "1                   9        C     206  107.0        1946.0             ne   \n",
       "2                  19        C     218  102.0        1947.0             da   \n",
       "3                  10        G     185   74.0        1969.0             ne   \n",
       "4                   5        F     198  101.0        1974.0             ne   \n",
       "...               ...      ...     ...    ...           ...            ...   \n",
       "5103                2        F     208  121.0        1997.0             ne   \n",
       "5104                0        C     216  109.0        1953.0             ne   \n",
       "5105                0        G     185   77.0        1948.0             ne   \n",
       "5106                6        C     213  109.0        1997.0             ne   \n",
       "5107                0        G     190   89.0        1919.0             ne   \n",
       "\n",
       "     trenutno_v_ligi  \n",
       "0                 ne  \n",
       "1                 ne  \n",
       "2                 ne  \n",
       "3                 ne  \n",
       "4                 ne  \n",
       "...              ...  \n",
       "5103              ne  \n",
       "5104              ne  \n",
       "5105              ne  \n",
       "5106              da  \n",
       "5107              ne  \n",
       "\n",
       "[5108 rows x 10 columns]"
      ]
     },
     "execution_count": 2,
     "metadata": {},
     "output_type": "execute_result"
    }
   ],
   "source": [
    "import pandas as pd\n",
    "podatki = pd.read_csv(\"igralci.csv\")\n",
    "podatki"
   ]
  },
  {
   "cell_type": "markdown",
   "metadata": {},
   "source": [
    "Za vsakega igralca imamo torej njegovo ime in priimek, oziroma naziv, ki ga uporablja, pozicijo, ki jo igra, njegovo višino v centimetrih, težo v kilogramih, dolžino kariere v letih, pri igralcih, kjer je nič to pomeni, da niso odigrali cele sezone, kar so lahko razne 10-dnevne pogodbe in podobno. Pri začetku in koncu kariere ter pri letu rojstva sem vzel le letnico, saj se kariera gleda v sezonah, ki se za vse igralce začnejo ob istem času in končajo ob istem času, pred prihodom v ligo pa so v šoli ali pa v drugih košarkarskih ligah, kjer deluje podoben princip. Na koncu pa imamo še podatka ali je igralec v Hall of fame in ali je trenutno aktiven v NBA."
   ]
  },
  {
   "cell_type": "markdown",
   "metadata": {},
   "source": [
    "## Povprečen igralec"
   ]
  },
  {
   "cell_type": "markdown",
   "metadata": {},
   "source": [
    "Poglejmo si najprej profil povprečnega igralca"
   ]
  },
  {
   "cell_type": "code",
   "execution_count": 57,
   "metadata": {},
   "outputs": [
    {
     "data": {
      "text/plain": [
       "198"
      ]
     },
     "execution_count": 57,
     "metadata": {},
     "output_type": "execute_result"
    }
   ],
   "source": [
    "int(podatki['visina'].mean())"
   ]
  },
  {
   "cell_type": "code",
   "execution_count": 11,
   "metadata": {},
   "outputs": [
    {
     "data": {
      "text/plain": [
       "95"
      ]
     },
     "execution_count": 11,
     "metadata": {},
     "output_type": "execute_result"
    }
   ],
   "source": [
    "int(podatki['teza'].mean())"
   ]
  },
  {
   "cell_type": "code",
   "execution_count": 13,
   "metadata": {},
   "outputs": [
    {
     "data": {
      "text/plain": [
       "4"
      ]
     },
     "execution_count": 13,
     "metadata": {},
     "output_type": "execute_result"
    }
   ],
   "source": [
    "int(podatki['dolzina_kariere'].mean())"
   ]
  },
  {
   "cell_type": "markdown",
   "metadata": {},
   "source": [
    "Povprečen igralec je torej visok 198cm, tehta 95kg in igra v ligi 4 leta. Za primerjavo vzamemo povprečnega moškega, ki je visok 175cm in potrdimo splošno prepričanje, da so košarkarji nadpovprečno visoki ljudje. Vseeno pa obstajajo izjeme, kot je Muggsy Bogues, ki je kljub svojim nizkim 160 centimetrov uspel igrati 13 sezon in je imel nadvse uspešno kariero."
   ]
  },
  {
   "cell_type": "code",
   "execution_count": 17,
   "metadata": {},
   "outputs": [
    {
     "data": {
      "text/html": [
       "<div>\n",
       "<style scoped>\n",
       "    .dataframe tbody tr th:only-of-type {\n",
       "        vertical-align: middle;\n",
       "    }\n",
       "\n",
       "    .dataframe tbody tr th {\n",
       "        vertical-align: top;\n",
       "    }\n",
       "\n",
       "    .dataframe thead th {\n",
       "        text-align: right;\n",
       "    }\n",
       "</style>\n",
       "<table border=\"1\" class=\"dataframe\">\n",
       "  <thead>\n",
       "    <tr style=\"text-align: right;\">\n",
       "      <th></th>\n",
       "      <th>ime</th>\n",
       "      <th>zacetek_kariere</th>\n",
       "      <th>konec_kariere/sedanjost</th>\n",
       "      <th>dolzina_kariere</th>\n",
       "      <th>pozicija</th>\n",
       "      <th>visina</th>\n",
       "      <th>teza</th>\n",
       "      <th>leto_rojstva</th>\n",
       "      <th>v_hall_of_fame</th>\n",
       "      <th>trenutno_v_ligi</th>\n",
       "    </tr>\n",
       "  </thead>\n",
       "  <tbody>\n",
       "    <tr>\n",
       "      <th>3228</th>\n",
       "      <td>Gheorghe Mureșan</td>\n",
       "      <td>1994</td>\n",
       "      <td>2000</td>\n",
       "      <td>6</td>\n",
       "      <td>C</td>\n",
       "      <td>231</td>\n",
       "      <td>138.0</td>\n",
       "      <td>1971.0</td>\n",
       "      <td>ne</td>\n",
       "      <td>ne</td>\n",
       "    </tr>\n",
       "    <tr>\n",
       "      <th>410</th>\n",
       "      <td>Manute Bol</td>\n",
       "      <td>1986</td>\n",
       "      <td>1995</td>\n",
       "      <td>9</td>\n",
       "      <td>C</td>\n",
       "      <td>231</td>\n",
       "      <td>91.0</td>\n",
       "      <td>1962.0</td>\n",
       "      <td>ne</td>\n",
       "      <td>ne</td>\n",
       "    </tr>\n",
       "    <tr>\n",
       "      <th>483</th>\n",
       "      <td>Shawn Bradley</td>\n",
       "      <td>1994</td>\n",
       "      <td>2005</td>\n",
       "      <td>11</td>\n",
       "      <td>C</td>\n",
       "      <td>229</td>\n",
       "      <td>107.0</td>\n",
       "      <td>1972.0</td>\n",
       "      <td>ne</td>\n",
       "      <td>ne</td>\n",
       "    </tr>\n",
       "    <tr>\n",
       "      <th>3113</th>\n",
       "      <td>Yao Ming</td>\n",
       "      <td>2003</td>\n",
       "      <td>2011</td>\n",
       "      <td>8</td>\n",
       "      <td>C</td>\n",
       "      <td>229</td>\n",
       "      <td>141.0</td>\n",
       "      <td>1980.0</td>\n",
       "      <td>da</td>\n",
       "      <td>ne</td>\n",
       "    </tr>\n",
       "    <tr>\n",
       "      <th>1347</th>\n",
       "      <td>Tacko Fall</td>\n",
       "      <td>2020</td>\n",
       "      <td>2022</td>\n",
       "      <td>2</td>\n",
       "      <td>C</td>\n",
       "      <td>229</td>\n",
       "      <td>141.0</td>\n",
       "      <td>1995.0</td>\n",
       "      <td>ne</td>\n",
       "      <td>ne</td>\n",
       "    </tr>\n",
       "    <tr>\n",
       "      <th>...</th>\n",
       "      <td>...</td>\n",
       "      <td>...</td>\n",
       "      <td>...</td>\n",
       "      <td>...</td>\n",
       "      <td>...</td>\n",
       "      <td>...</td>\n",
       "      <td>...</td>\n",
       "      <td>...</td>\n",
       "      <td>...</td>\n",
       "      <td>...</td>\n",
       "    </tr>\n",
       "    <tr>\n",
       "      <th>4779</th>\n",
       "      <td>Spud Webb</td>\n",
       "      <td>1986</td>\n",
       "      <td>1998</td>\n",
       "      <td>12</td>\n",
       "      <td>G</td>\n",
       "      <td>168</td>\n",
       "      <td>60.0</td>\n",
       "      <td>1963.0</td>\n",
       "      <td>ne</td>\n",
       "      <td>ne</td>\n",
       "    </tr>\n",
       "    <tr>\n",
       "      <th>2001</th>\n",
       "      <td>Mel Hirsch</td>\n",
       "      <td>1947</td>\n",
       "      <td>1947</td>\n",
       "      <td>0</td>\n",
       "      <td>G</td>\n",
       "      <td>168</td>\n",
       "      <td>75.0</td>\n",
       "      <td>1921.0</td>\n",
       "      <td>ne</td>\n",
       "      <td>ne</td>\n",
       "    </tr>\n",
       "    <tr>\n",
       "      <th>466</th>\n",
       "      <td>Earl Boykins</td>\n",
       "      <td>1999</td>\n",
       "      <td>2012</td>\n",
       "      <td>13</td>\n",
       "      <td>G</td>\n",
       "      <td>165</td>\n",
       "      <td>61.0</td>\n",
       "      <td>1976.0</td>\n",
       "      <td>ne</td>\n",
       "      <td>ne</td>\n",
       "    </tr>\n",
       "    <tr>\n",
       "      <th>1239</th>\n",
       "      <td>Penny Early</td>\n",
       "      <td>1969</td>\n",
       "      <td>1969</td>\n",
       "      <td>0</td>\n",
       "      <td>G</td>\n",
       "      <td>160</td>\n",
       "      <td>52.0</td>\n",
       "      <td>1943.0</td>\n",
       "      <td>ne</td>\n",
       "      <td>ne</td>\n",
       "    </tr>\n",
       "    <tr>\n",
       "      <th>406</th>\n",
       "      <td>Muggsy Bogues</td>\n",
       "      <td>1988</td>\n",
       "      <td>2001</td>\n",
       "      <td>13</td>\n",
       "      <td>G</td>\n",
       "      <td>160</td>\n",
       "      <td>62.0</td>\n",
       "      <td>1965.0</td>\n",
       "      <td>ne</td>\n",
       "      <td>ne</td>\n",
       "    </tr>\n",
       "  </tbody>\n",
       "</table>\n",
       "<p>5108 rows × 10 columns</p>\n",
       "</div>"
      ],
      "text/plain": [
       "                   ime  zacetek_kariere  konec_kariere/sedanjost  \\\n",
       "3228  Gheorghe Mureșan             1994                     2000   \n",
       "410         Manute Bol             1986                     1995   \n",
       "483      Shawn Bradley             1994                     2005   \n",
       "3113          Yao Ming             2003                     2011   \n",
       "1347        Tacko Fall             2020                     2022   \n",
       "...                ...              ...                      ...   \n",
       "4779         Spud Webb             1986                     1998   \n",
       "2001        Mel Hirsch             1947                     1947   \n",
       "466       Earl Boykins             1999                     2012   \n",
       "1239       Penny Early             1969                     1969   \n",
       "406      Muggsy Bogues             1988                     2001   \n",
       "\n",
       "      dolzina_kariere pozicija  visina   teza  leto_rojstva v_hall_of_fame  \\\n",
       "3228                6        C     231  138.0        1971.0             ne   \n",
       "410                 9        C     231   91.0        1962.0             ne   \n",
       "483                11        C     229  107.0        1972.0             ne   \n",
       "3113                8        C     229  141.0        1980.0             da   \n",
       "1347                2        C     229  141.0        1995.0             ne   \n",
       "...               ...      ...     ...    ...           ...            ...   \n",
       "4779               12        G     168   60.0        1963.0             ne   \n",
       "2001                0        G     168   75.0        1921.0             ne   \n",
       "466                13        G     165   61.0        1976.0             ne   \n",
       "1239                0        G     160   52.0        1943.0             ne   \n",
       "406                13        G     160   62.0        1965.0             ne   \n",
       "\n",
       "     trenutno_v_ligi  \n",
       "3228              ne  \n",
       "410               ne  \n",
       "483               ne  \n",
       "3113              ne  \n",
       "1347              ne  \n",
       "...              ...  \n",
       "4779              ne  \n",
       "2001              ne  \n",
       "466               ne  \n",
       "1239              ne  \n",
       "406               ne  \n",
       "\n",
       "[5108 rows x 10 columns]"
      ]
     },
     "execution_count": 17,
     "metadata": {},
     "output_type": "execute_result"
    }
   ],
   "source": [
    "podatki.sort_values('visina', ascending=False)"
   ]
  },
  {
   "cell_type": "code",
   "execution_count": 46,
   "metadata": {},
   "outputs": [
    {
     "data": {
      "text/plain": [
       "<Axes: xlabel='visinski_razred'>"
      ]
     },
     "execution_count": 46,
     "metadata": {},
     "output_type": "execute_result"
    },
    {
     "data": {
      "image/png": "[encoded data removed]",
      "text/plain": [
       "<Figure size 640x480 with 1 Axes>"
      ]
     },
     "metadata": {},
     "output_type": "display_data"
    }
   ],
   "source": [
    "import matplotlib.pyplot as plt\n",
    "podatki['visinski_razred'] = (podatki[['visina']] // 10) * 10\n",
    "visinski_razredi = podatki.groupby(['visinski_razred']).count()\n",
    "visinski_razredi['ime'].plot.bar()"
   ]
  },
  {
   "cell_type": "code",
   "execution_count": 54,
   "metadata": {},
   "outputs": [
    {
     "data": {
      "text/plain": [
       "<Axes: xlabel='teznostni_razred'>"
      ]
     },
     "execution_count": 54,
     "metadata": {},
     "output_type": "execute_result"
    },
    {
     "data": {
      "image/png": "[encoded data removed]",
      "text/plain": [
       "<Figure size 640x480 with 1 Axes>"
      ]
     },
     "metadata": {},
     "output_type": "display_data"
    }
   ],
   "source": [
    "podatki['teznostni_razred'] = (podatki[['teza']] // 10) * 10\n",
    "teznostni_razredi = podatki.groupby(['teznostni_razred']).count()\n",
    "teznostni_razredi['ime'].plot.bar(color = 'Green')"
   ]
  },
  {
   "cell_type": "code",
   "execution_count": 56,
   "metadata": {},
   "outputs": [
    {
     "data": {
      "text/plain": [
       "<Axes: xlabel='dolzina_kariere'>"
      ]
     },
     "execution_count": 56,
     "metadata": {},
     "output_type": "execute_result"
    },
    {
     "data": {
      "image/png": "[encoded data removed]",
      "text/plain": [
       "<Figure size 640x480 with 1 Axes>"
      ]
     },
     "metadata": {},
     "output_type": "display_data"
    }
   ],
   "source": [
    "dolzina = podatki.groupby(['dolzina_kariere']).count()\n",
    "dolzina['ime'].plot.bar(color = 'Red')"
   ]
  },
  {
   "cell_type": "markdown",
   "metadata": {},
   "source": [
    "Ko pa pogledamo porazdelitev za vse igralce, pa ugotovimo, da sta višina in teža porazdeljeni normalno, večina igralcev pa v ligi NBA ne zdrži dlje kot 4 sezone."
   ]
  },
  {
   "cell_type": "markdown",
   "metadata": {},
   "source": [
    "Za lažjo analizo podatkov skozi čas bomo za vsakega igralca vzeli sredino njegove kariere, saj so nekateri igralci igrali v več desetletjih, Vince Carter recimo celo v štirih. Večina pa doseže vrhunec svoje kariere nekje na sredini, tako da je ta olajšava smiselna. "
   ]
  },
  {
   "cell_type": "code",
   "execution_count": 17,
   "metadata": {},
   "outputs": [
    {
     "data": {
      "text/html": [
       "<div>\n",
       "<style scoped>\n",
       "    .dataframe tbody tr th:only-of-type {\n",
       "        vertical-align: middle;\n",
       "    }\n",
       "\n",
       "    .dataframe tbody tr th {\n",
       "        vertical-align: top;\n",
       "    }\n",
       "\n",
       "    .dataframe thead th {\n",
       "        text-align: right;\n",
       "    }\n",
       "</style>\n",
       "<table border=\"1\" class=\"dataframe\">\n",
       "  <thead>\n",
       "    <tr style=\"text-align: right;\">\n",
       "      <th></th>\n",
       "      <th>ime</th>\n",
       "      <th>zacetek_kariere</th>\n",
       "      <th>konec_kariere/sedanjost</th>\n",
       "      <th>dolzina_kariere</th>\n",
       "      <th>pozicija</th>\n",
       "      <th>visina</th>\n",
       "      <th>teza</th>\n",
       "      <th>leto_rojstva</th>\n",
       "      <th>v_hall_of_fame</th>\n",
       "      <th>trenutno_v_ligi</th>\n",
       "      <th>desetletje</th>\n",
       "    </tr>\n",
       "  </thead>\n",
       "  <tbody>\n",
       "    <tr>\n",
       "      <th>733</th>\n",
       "      <td>Vince Carter</td>\n",
       "      <td>1999</td>\n",
       "      <td>2020</td>\n",
       "      <td>21</td>\n",
       "      <td>G</td>\n",
       "      <td>198</td>\n",
       "      <td>100.0</td>\n",
       "      <td>1977.0</td>\n",
       "      <td>ne</td>\n",
       "      <td>ne</td>\n",
       "      <td>2000</td>\n",
       "    </tr>\n",
       "  </tbody>\n",
       "</table>\n",
       "</div>"
      ],
      "text/plain": [
       "              ime  zacetek_kariere  konec_kariere/sedanjost  dolzina_kariere  \\\n",
       "733  Vince Carter             1999                     2020               21   \n",
       "\n",
       "    pozicija  visina   teza  leto_rojstva v_hall_of_fame trenutno_v_ligi  \\\n",
       "733        G     198  100.0        1977.0             ne              ne   \n",
       "\n",
       "     desetletje  \n",
       "733        2000  "
      ]
     },
     "execution_count": 17,
     "metadata": {},
     "output_type": "execute_result"
    }
   ],
   "source": [
    "Vince = podatki[podatki['ime'] == 'Vince Carter']\n",
    "Vince"
   ]
  },
  {
   "cell_type": "code",
   "execution_count": 52,
   "metadata": {},
   "outputs": [
    {
     "data": {
      "text/plain": [
       "<Axes: xlabel='desetletje'>"
      ]
     },
     "execution_count": 52,
     "metadata": {},
     "output_type": "execute_result"
    },
    {
     "data": {
      "image/png": "[encoded data removed]",
      "text/plain": [
       "<Figure size 640x480 with 1 Axes>"
      ]
     },
     "metadata": {},
     "output_type": "display_data"
    }
   ],
   "source": [
    "podatki['desetletje'] = ((podatki['konec_kariere/sedanjost'] + podatki['zacetek_kariere']) // 20) * 10 \n",
    "podatki['desetletje']\n",
    "podatki.groupby(['desetletje'])['visina'].mean().plot()"
   ]
  },
  {
   "cell_type": "code",
   "execution_count": 53,
   "metadata": {},
   "outputs": [
    {
     "data": {
      "text/plain": [
       "<Axes: xlabel='desetletje'>"
      ]
     },
     "execution_count": 53,
     "metadata": {},
     "output_type": "execute_result"
    },
    {
     "data": {
      "image/png": "[encoded data removed]",
      "text/plain": [
       "<Figure size 640x480 with 1 Axes>"
      ]
     },
     "metadata": {},
     "output_type": "display_data"
    }
   ],
   "source": [
    "podatki.groupby(['desetletje'])['teza'].mean().plot(color = 'Green')"
   ]
  },
  {
   "cell_type": "markdown",
   "metadata": {},
   "source": [
    "Vidimo, da se je povprečna višina do začetka 21. stoletja dvigovala, potem pa se je zaradi razvoja košarke začela nižati. Podobno se pokaže v povprečni teži, ki je seveda sorazmerna z višino."
   ]
  },
  {
   "cell_type": "code",
   "execution_count": 14,
   "metadata": {},
   "outputs": [
    {
     "data": {
      "text/plain": [
       "<Axes: xlabel='desetletje'>"
      ]
     },
     "execution_count": 14,
     "metadata": {},
     "output_type": "execute_result"
    },
    {
     "data": {
      "image/png": "[encoded data removed]",
      "text/plain": [
       "<Figure size 640x480 with 1 Axes>"
      ]
     },
     "metadata": {},
     "output_type": "display_data"
    }
   ],
   "source": [
    "stevilo_aktivnih_igralcev = podatki.groupby(['desetletje']).count()\n",
    "stevilo_aktivnih_igralcev['ime'].plot(color = 'Orange')"
   ]
  },
  {
   "cell_type": "markdown",
   "metadata": {},
   "source": [
    "Potrdimo lahko hipotezo, da je z rastjo števila ekip, rastlo tudi število aktivnih igralcev. Izjema je trenutno desetletje, saj smo šele v četrtem letu."
   ]
  },
  {
   "cell_type": "markdown",
   "metadata": {},
   "source": [
    "## Pozicije"
   ]
  },
  {
   "cell_type": "markdown",
   "metadata": {},
   "source": [
    "Najprej si poglejmo ali predstavljajo centri le eno petino vseh igralcev, branilci in krila pa vsak po dve petini, kot bi lahko sklepali iz v uvodu razložene delitve pozicij."
   ]
  },
  {
   "cell_type": "code",
   "execution_count": 25,
   "metadata": {},
   "outputs": [
    {
     "data": {
      "text/plain": [
       "pozicija\n",
       "C     769\n",
       "F    2098\n",
       "G    2241\n",
       "Name: ime, dtype: int64"
      ]
     },
     "execution_count": 25,
     "metadata": {},
     "output_type": "execute_result"
    }
   ],
   "source": [
    "pozicije = podatki.groupby(['pozicija']).count()\n",
    "pozicije['ime']"
   ]
  },
  {
   "cell_type": "code",
   "execution_count": 21,
   "metadata": {},
   "outputs": [
    {
     "data": {
      "text/plain": [
       "<Axes: ylabel='ime'>"
      ]
     },
     "execution_count": 21,
     "metadata": {},
     "output_type": "execute_result"
    },
    {
     "data": {
      "image/png": "[encoded data removed]",
      "text/plain": [
       "<Figure size 640x480 with 1 Axes>"
      ]
     },
     "metadata": {},
     "output_type": "display_data"
    }
   ],
   "source": [
    "pozicije['ime'].plot.pie()"
   ]
  },
  {
   "cell_type": "code",
   "execution_count": 33,
   "metadata": {},
   "outputs": [
    {
     "data": {
      "text/plain": [
       "pozicija\n",
       "C    209\n",
       "F    201\n",
       "G    190\n",
       "Name: visina, dtype: int32"
      ]
     },
     "execution_count": 33,
     "metadata": {},
     "output_type": "execute_result"
    }
   ],
   "source": [
    "povprecna_visina_pozicije = podatki.groupby(['pozicija'])\n",
    "pvp = povprecna_visina_pozicije.mean(['visina'])['visina']\n",
    "pvp.astype(int)"
   ]
  },
  {
   "cell_type": "markdown",
   "metadata": {},
   "source": [
    "Opazimo, da je centrov celo manj kot petino, razlog za to pa najdemo v povprečni višini glede na igralno pozicijo. Kot nam veleva logika, je to povsem smiselno, saj je tako visokih ljudi, ki so hkrati atletsko sposobni, na celem svetu zelo malo."
   ]
  },
  {
   "cell_type": "markdown",
   "metadata": {},
   "source": [
    "Po vzorcu prejšnjega poglavja lahko predvidevamo, da bodo centri v povprečju najtežji, branilci pa najlažji. Preverimo."
   ]
  },
  {
   "cell_type": "code",
   "execution_count": 36,
   "metadata": {},
   "outputs": [
    {
     "data": {
      "text/plain": [
       "pozicija\n",
       "C    109\n",
       "F     99\n",
       "G     86\n",
       "Name: teza, dtype: int32"
      ]
     },
     "execution_count": 36,
     "metadata": {},
     "output_type": "execute_result"
    }
   ],
   "source": [
    "povprecna_visina_pozicije = podatki.groupby(['pozicija'])\n",
    "ptp = povprecna_visina_pozicije.mean(['teza'])['teza']\n",
    "ptp.astype(int)"
   ]
  },
  {
   "cell_type": "markdown",
   "metadata": {},
   "source": [
    "Izkaže se, da smo pravilno predvidevali. Potrdili smo torej hipoteze o profilu igralca, glede na pozicijo, ki sem jih postavil v uvodu."
   ]
  },
  {
   "cell_type": "markdown",
   "metadata": {},
   "source": [
    "## Hall of fame"
   ]
  },
  {
   "cell_type": "code",
   "execution_count": 54,
   "metadata": {},
   "outputs": [
    {
     "data": {
      "text/plain": [
       "v_hall_of_fame\n",
       "da     164\n",
       "ne    4944\n",
       "Name: ime, dtype: int64"
      ]
     },
     "execution_count": 54,
     "metadata": {},
     "output_type": "execute_result"
    }
   ],
   "source": [
    "hof = podatki.groupby('v_hall_of_fame')\n",
    "hof['ime'].count()"
   ]
  },
  {
   "cell_type": "markdown",
   "metadata": {},
   "source": [
    "Tu je treba poudariti, da aktivni igralci ne morajo biti v Hall of fame-u. To bo pomembno pri izračunu verjetnosti, da se igralec uvrsti tja."
   ]
  },
  {
   "cell_type": "code",
   "execution_count": 55,
   "metadata": {},
   "outputs": [
    {
     "data": {
      "text/plain": [
       "trenutno_v_ligi\n",
       "da     690\n",
       "ne    4418\n",
       "Name: ime, dtype: int64"
      ]
     },
     "execution_count": 55,
     "metadata": {},
     "output_type": "execute_result"
    }
   ],
   "source": [
    "aktivni = podatki.groupby('trenutno_v_ligi')\n",
    "aktivni['ime'].count()"
   ]
  },
  {
   "cell_type": "markdown",
   "metadata": {},
   "source": [
    "Izračunamo iskano verjetnost, ki je"
   ]
  },
  {
   "cell_type": "code",
   "execution_count": 56,
   "metadata": {},
   "outputs": [
    {
     "data": {
      "text/plain": [
       "0.03712086917157085"
      ]
     },
     "execution_count": 56,
     "metadata": {},
     "output_type": "execute_result"
    }
   ],
   "source": [
    "164 / (5108 - 690)"
   ]
  },
  {
   "cell_type": "markdown",
   "metadata": {},
   "source": [
    "Torej manj kot 4 odstotke vseh NBA igralcev je imelo dovolj dobro kariero, da se uvrsti v Hall of fame. Ta dosežek je torej res izjemen."
   ]
  },
  {
   "cell_type": "markdown",
   "metadata": {},
   "source": [
    "Poglejmo si sedaj še dejavnike, ki bi lahko vplivali na možnosti igralca, da mu uspe dobiti eno največjih priznanj v svetu košarke."
   ]
  },
  {
   "cell_type": "code",
   "execution_count": 57,
   "metadata": {},
   "outputs": [
    {
     "data": {
      "text/html": [
       "<div>\n",
       "<style scoped>\n",
       "    .dataframe tbody tr th:only-of-type {\n",
       "        vertical-align: middle;\n",
       "    }\n",
       "\n",
       "    .dataframe tbody tr th {\n",
       "        vertical-align: top;\n",
       "    }\n",
       "\n",
       "    .dataframe thead th {\n",
       "        text-align: right;\n",
       "    }\n",
       "</style>\n",
       "<table border=\"1\" class=\"dataframe\">\n",
       "  <thead>\n",
       "    <tr style=\"text-align: right;\">\n",
       "      <th></th>\n",
       "      <th>ime</th>\n",
       "      <th>zacetek_kariere</th>\n",
       "      <th>konec_kariere/sedanjost</th>\n",
       "      <th>dolzina_kariere</th>\n",
       "      <th>pozicija</th>\n",
       "      <th>visina</th>\n",
       "      <th>teza</th>\n",
       "      <th>leto_rojstva</th>\n",
       "      <th>v_hall_of_fame</th>\n",
       "      <th>trenutno_v_ligi</th>\n",
       "      <th>desetletje</th>\n",
       "    </tr>\n",
       "  </thead>\n",
       "  <tbody>\n",
       "    <tr>\n",
       "      <th>2</th>\n",
       "      <td>Kareem Abdul-Jabbar</td>\n",
       "      <td>1970</td>\n",
       "      <td>1989</td>\n",
       "      <td>19</td>\n",
       "      <td>C</td>\n",
       "      <td>218</td>\n",
       "      <td>102.0</td>\n",
       "      <td>1947.0</td>\n",
       "      <td>da</td>\n",
       "      <td>ne</td>\n",
       "      <td>1970</td>\n",
       "    </tr>\n",
       "    <tr>\n",
       "      <th>27</th>\n",
       "      <td>Rick Adelman</td>\n",
       "      <td>1969</td>\n",
       "      <td>1975</td>\n",
       "      <td>6</td>\n",
       "      <td>G</td>\n",
       "      <td>185</td>\n",
       "      <td>79.0</td>\n",
       "      <td>1946.0</td>\n",
       "      <td>da</td>\n",
       "      <td>ne</td>\n",
       "      <td>1970</td>\n",
       "    </tr>\n",
       "    <tr>\n",
       "      <th>69</th>\n",
       "      <td>Ray Allen</td>\n",
       "      <td>1997</td>\n",
       "      <td>2014</td>\n",
       "      <td>17</td>\n",
       "      <td>G</td>\n",
       "      <td>196</td>\n",
       "      <td>93.0</td>\n",
       "      <td>1975.0</td>\n",
       "      <td>da</td>\n",
       "      <td>ne</td>\n",
       "      <td>2000</td>\n",
       "    </tr>\n",
       "    <tr>\n",
       "      <th>130</th>\n",
       "      <td>Tiny Archibald</td>\n",
       "      <td>1971</td>\n",
       "      <td>1984</td>\n",
       "      <td>13</td>\n",
       "      <td>G</td>\n",
       "      <td>185</td>\n",
       "      <td>68.0</td>\n",
       "      <td>1948.0</td>\n",
       "      <td>da</td>\n",
       "      <td>ne</td>\n",
       "      <td>1970</td>\n",
       "    </tr>\n",
       "    <tr>\n",
       "      <th>135</th>\n",
       "      <td>Paul Arizin</td>\n",
       "      <td>1951</td>\n",
       "      <td>1962</td>\n",
       "      <td>11</td>\n",
       "      <td>F</td>\n",
       "      <td>193</td>\n",
       "      <td>86.0</td>\n",
       "      <td>1928.0</td>\n",
       "      <td>da</td>\n",
       "      <td>ne</td>\n",
       "      <td>1950</td>\n",
       "    </tr>\n",
       "    <tr>\n",
       "      <th>...</th>\n",
       "      <td>...</td>\n",
       "      <td>...</td>\n",
       "      <td>...</td>\n",
       "      <td>...</td>\n",
       "      <td>...</td>\n",
       "      <td>...</td>\n",
       "      <td>...</td>\n",
       "      <td>...</td>\n",
       "      <td>...</td>\n",
       "      <td>...</td>\n",
       "      <td>...</td>\n",
       "    </tr>\n",
       "    <tr>\n",
       "      <th>4871</th>\n",
       "      <td>Lenny Wilkens</td>\n",
       "      <td>1961</td>\n",
       "      <td>1975</td>\n",
       "      <td>14</td>\n",
       "      <td>G</td>\n",
       "      <td>185</td>\n",
       "      <td>82.0</td>\n",
       "      <td>1937.0</td>\n",
       "      <td>da</td>\n",
       "      <td>ne</td>\n",
       "      <td>1960</td>\n",
       "    </tr>\n",
       "    <tr>\n",
       "      <th>4873</th>\n",
       "      <td>Jamaal Wilkes</td>\n",
       "      <td>1975</td>\n",
       "      <td>1986</td>\n",
       "      <td>11</td>\n",
       "      <td>F</td>\n",
       "      <td>198</td>\n",
       "      <td>86.0</td>\n",
       "      <td>1953.0</td>\n",
       "      <td>da</td>\n",
       "      <td>ne</td>\n",
       "      <td>1980</td>\n",
       "    </tr>\n",
       "    <tr>\n",
       "      <th>4876</th>\n",
       "      <td>Dominique Wilkins</td>\n",
       "      <td>1983</td>\n",
       "      <td>1999</td>\n",
       "      <td>16</td>\n",
       "      <td>F</td>\n",
       "      <td>203</td>\n",
       "      <td>98.0</td>\n",
       "      <td>1960.0</td>\n",
       "      <td>da</td>\n",
       "      <td>ne</td>\n",
       "      <td>1990</td>\n",
       "    </tr>\n",
       "    <tr>\n",
       "      <th>5042</th>\n",
       "      <td>James Worthy</td>\n",
       "      <td>1983</td>\n",
       "      <td>1994</td>\n",
       "      <td>11</td>\n",
       "      <td>F</td>\n",
       "      <td>206</td>\n",
       "      <td>102.0</td>\n",
       "      <td>1961.0</td>\n",
       "      <td>da</td>\n",
       "      <td>ne</td>\n",
       "      <td>1980</td>\n",
       "    </tr>\n",
       "    <tr>\n",
       "      <th>5069</th>\n",
       "      <td>George Yardley</td>\n",
       "      <td>1954</td>\n",
       "      <td>1960</td>\n",
       "      <td>6</td>\n",
       "      <td>F</td>\n",
       "      <td>196</td>\n",
       "      <td>86.0</td>\n",
       "      <td>1928.0</td>\n",
       "      <td>da</td>\n",
       "      <td>ne</td>\n",
       "      <td>1950</td>\n",
       "    </tr>\n",
       "  </tbody>\n",
       "</table>\n",
       "<p>164 rows × 11 columns</p>\n",
       "</div>"
      ],
      "text/plain": [
       "                      ime  zacetek_kariere  konec_kariere/sedanjost  \\\n",
       "2     Kareem Abdul-Jabbar             1970                     1989   \n",
       "27           Rick Adelman             1969                     1975   \n",
       "69              Ray Allen             1997                     2014   \n",
       "130        Tiny Archibald             1971                     1984   \n",
       "135           Paul Arizin             1951                     1962   \n",
       "...                   ...              ...                      ...   \n",
       "4871        Lenny Wilkens             1961                     1975   \n",
       "4873        Jamaal Wilkes             1975                     1986   \n",
       "4876    Dominique Wilkins             1983                     1999   \n",
       "5042         James Worthy             1983                     1994   \n",
       "5069       George Yardley             1954                     1960   \n",
       "\n",
       "      dolzina_kariere pozicija  visina   teza  leto_rojstva v_hall_of_fame  \\\n",
       "2                  19        C     218  102.0        1947.0             da   \n",
       "27                  6        G     185   79.0        1946.0             da   \n",
       "69                 17        G     196   93.0        1975.0             da   \n",
       "130                13        G     185   68.0        1948.0             da   \n",
       "135                11        F     193   86.0        1928.0             da   \n",
       "...               ...      ...     ...    ...           ...            ...   \n",
       "4871               14        G     185   82.0        1937.0             da   \n",
       "4873               11        F     198   86.0        1953.0             da   \n",
       "4876               16        F     203   98.0        1960.0             da   \n",
       "5042               11        F     206  102.0        1961.0             da   \n",
       "5069                6        F     196   86.0        1928.0             da   \n",
       "\n",
       "     trenutno_v_ligi  desetletje  \n",
       "2                 ne        1970  \n",
       "27                ne        1970  \n",
       "69                ne        2000  \n",
       "130               ne        1970  \n",
       "135               ne        1950  \n",
       "...              ...         ...  \n",
       "4871              ne        1960  \n",
       "4873              ne        1980  \n",
       "4876              ne        1990  \n",
       "5042              ne        1980  \n",
       "5069              ne        1950  \n",
       "\n",
       "[164 rows x 11 columns]"
      ]
     },
     "execution_count": 57,
     "metadata": {},
     "output_type": "execute_result"
    }
   ],
   "source": [
    "v_hof = podatki[podatki['v_hall_of_fame'] == 'da']\n",
    "v_hof"
   ]
  },
  {
   "cell_type": "code",
   "execution_count": 58,
   "metadata": {},
   "outputs": [
    {
     "data": {
      "text/plain": [
       "198"
      ]
     },
     "execution_count": 58,
     "metadata": {},
     "output_type": "execute_result"
    }
   ],
   "source": [
    "int(v_hof['visina'].mean())"
   ]
  },
  {
   "cell_type": "code",
   "execution_count": 59,
   "metadata": {},
   "outputs": [
    {
     "data": {
      "text/plain": [
       "94"
      ]
     },
     "execution_count": 59,
     "metadata": {},
     "output_type": "execute_result"
    }
   ],
   "source": [
    "int(v_hof['teza'].mean())"
   ]
  },
  {
   "cell_type": "markdown",
   "metadata": {},
   "source": [
    "Povprečna višina in teža ne pokažeta bistvenega odstopanja od baze vseh igralcev."
   ]
  },
  {
   "cell_type": "code",
   "execution_count": 60,
   "metadata": {},
   "outputs": [
    {
     "data": {
      "text/plain": [
       "11"
      ]
     },
     "execution_count": 60,
     "metadata": {},
     "output_type": "execute_result"
    }
   ],
   "source": [
    "int(v_hof['dolzina_kariere'].mean())"
   ]
  },
  {
   "cell_type": "markdown",
   "metadata": {},
   "source": [
    "Razlika pa se pokaže v povprečni dolžini kariere, saj je le-ta skoraj trikrat daljša kot od povprečnega igralca. To je seveda smiselno, saj bo uspešen košarkar ostal aktiven dlje, saj bo dobil boljše pogodbe za igranje (oziroma sploh dobil katerokoli pogodbo) in se mu bo to bolj izplačalo, kot kariero zaključiti ali pa odditi igrati v manj kvalitetne košarkarske lige. Navsezadnje je liga NBA najboljša košarkarska liga na svetu in so tam tudi plače daleč največje."
   ]
  },
  {
   "cell_type": "code",
   "execution_count": 62,
   "metadata": {},
   "outputs": [
    {
     "data": {
      "text/plain": [
       "pozicija\n",
       "C    36\n",
       "F    63\n",
       "G    65\n",
       "Name: ime, dtype: int64"
      ]
     },
     "execution_count": 62,
     "metadata": {},
     "output_type": "execute_result"
    }
   ],
   "source": [
    "pozicije2 = v_hof.groupby(['pozicija']).count()\n",
    "pozicije2['ime']"
   ]
  },
  {
   "cell_type": "code",
   "execution_count": 63,
   "metadata": {},
   "outputs": [
    {
     "data": {
      "text/plain": [
       "<Axes: ylabel='ime'>"
      ]
     },
     "execution_count": 63,
     "metadata": {},
     "output_type": "execute_result"
    },
    {
     "data": {
      "image/png": "[encoded data removed]",
      "text/plain": [
       "<Figure size 640x480 with 1 Axes>"
      ]
     },
     "metadata": {},
     "output_type": "display_data"
    }
   ],
   "source": [
    "pozicije2['ime'].plot.pie()"
   ]
  },
  {
   "cell_type": "markdown",
   "metadata": {},
   "source": [
    "Izkaže se, da centri predstavljajo večji del Halloffamerjev kot povprečnih igralcev, saj jih je tu več kot petino, med vsemi pa manj kot šestino. To bi si lahko razlagali s tem, da so tisti, ki jim uspe priti v ligo NBA in v njej ostanejo dovolj časa brez poškodb, zaradi svoje višine bolj dominantni, v primerjavi z ostalimi nižjimi igralci, in lažje dosežejo pogoje za vstop v Hall of fame."
   ]
  },
  {
   "cell_type": "code",
   "execution_count": 65,
   "metadata": {},
   "outputs": [
    {
     "data": {
      "text/plain": [
       "<Axes: xlabel='desetletje'>"
      ]
     },
     "execution_count": 65,
     "metadata": {},
     "output_type": "execute_result"
    },
    {
     "data": {
      "image/png": "[encoded data removed]",
      "text/plain": [
       "<Figure size 640x480 with 1 Axes>"
      ]
     },
     "metadata": {},
     "output_type": "display_data"
    }
   ],
   "source": [
    "obdobje = v_hof.groupby(['desetletje']).count()\n",
    "obdobje['ime'].plot.bar()"
   ]
  },
  {
   "cell_type": "markdown",
   "metadata": {},
   "source": [
    "Kot pokaže graf, je največ halloffamerjev iz obdobja med 1950 in 1980. Iz tega bi lahko poimenovali tisto obdobje \"Zlati časi košarke\", ali pa to pomeni, da je bila liga takrat najbolj izenačena in je imelo največ ekip možnost zmage in s tem največ igralcev možnost doseči izjemne uspehe. Druge razlage bi bile še dominanca igralcev kot so Larry Bird, Magic Johnson, Michael Jordan, Kobe Bryant itd. v kasnejših obdobjih. Lahko bi bil razlog bolj strog kriterij za vstop v Hall of fame. Lahko pa bi bil razlog tudi kaj drugega. Odgovor na to vprašanje pa prepustim bralcu."
   ]
  },
  {
   "cell_type": "markdown",
   "metadata": {},
   "source": [
    "## Zaključek"
   ]
  },
  {
   "cell_type": "markdown",
   "metadata": {},
   "source": [
    "Analiza je potrdila moje hipoteze iz uvoda, kar sem seveda tudi želel, saj mi to potrdi moje dobro poznavanje košarki in predvsem lige NBA. Upam, da sem nepoznavalcu košarke, ki je morebiti zašel v branje te analize, predstavil, približno kakšen izgleda povprečen igralec košarke in kaj potrebuje, da bo njegova kariera res izjemna, zraven pa je dobil še kakšno dejstvo o košarki na splošno."
   ]
  }
 ],
 "metadata": {
  "kernelspec": {
   "display_name": "Python 3",
   "language": "python",
   "name": "python3"
  },
  "language_info": {
   "codemirror_mode": {
    "name": "ipython",
    "version": 3
   },
   "file_extension": ".py",
   "mimetype": "text/x-python",
   "name": "python",
   "nbconvert_exporter": "python",
   "pygments_lexer": "ipython3",
   "version": "3.9.1"
  },
  "orig_nbformat": 4
 },
 "nbformat": 4,
 "nbformat_minor": 2
}
